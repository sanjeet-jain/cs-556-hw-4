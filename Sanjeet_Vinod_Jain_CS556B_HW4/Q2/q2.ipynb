{
 "cells": [
  {
   "cell_type": "code",
   "execution_count": null,
   "metadata": {},
   "outputs": [],
   "source": [
    "import pandas as pd\n",
    "import numpy as np\n",
    "df_train = pd.read_csv(\"df_train.csv\")\n",
    "df_test = pd.read_csv(\"df_test.csv\")\n",
    "\n",
    "print(df_train.shape)"
   ]
  },
  {
   "cell_type": "code",
   "execution_count": null,
   "metadata": {},
   "outputs": [],
   "source": [
    "df_train.isnull().sum()"
   ]
  },
  {
   "cell_type": "code",
   "execution_count": null,
   "metadata": {},
   "outputs": [],
   "source": [
    "df_train_new=df_train.drop(columns=[\"Cabin\",\"PassengerId\",\"Name\",\"Ticket\"])\n",
    "mean_ages = df_train_new['Age'].mean()\n",
    "df_train_new['Age'].fillna(mean_ages,inplace=True)\n",
    "df_train_new = df_train_new.dropna()"
   ]
  },
  {
   "cell_type": "code",
   "execution_count": null,
   "metadata": {},
   "outputs": [],
   "source": [
    "X_train = df_train_new.drop(columns=[\"Survived\"])\n",
    "y_train = df_train_new[\"Survived\"]\n",
    "\n",
    "X_test = df_test.drop(columns=[\"Survived\"])\n",
    "y_test = df_test[\"Survived\"]"
   ]
  },
  {
   "cell_type": "code",
   "execution_count": null,
   "metadata": {},
   "outputs": [],
   "source": [
    "import matplotlib \n",
    "from matplotlib import pyplot as plt\n",
    "plt.scatter(df_train_new[\"Age\"], df_train_new[\"Fare\"])\n",
    "plt.title(\"age vs fair plot\")\n",
    "plt.xlabel(\"Age\")\n",
    "plt.ylabel(\"Fare\")\n",
    "plt.show"
   ]
  },
  {
   "cell_type": "code",
   "execution_count": null,
   "metadata": {},
   "outputs": [],
   "source": [
    "print(\"max fare\",df_train_new[\"Fare\"].max())\n",
    "print(\"min fare\",df_train_new[\"Fare\"].min())\n",
    "print(\"max age\",df_train_new[\"Age\"].max())\n",
    "print(\"mean fare \",df_train_new[\"Fare\"].mean())\n",
    "print(\"mean age\",df_train_new[\"Age\"].mean())"
   ]
  },
  {
   "cell_type": "code",
   "execution_count": null,
   "metadata": {},
   "outputs": [],
   "source": [
    "total_survivors = df_train_new[[\"Sex\",\"Pclass\",\"Survived\"]]\n",
    "\n",
    "males_survived= total_survivors[total_survivors.Sex == 'male'].groupby(\"Pclass\").sum('Survived')\n",
    "plt.bar(males_survived.index.values,males_survived[\"Survived\"])\n",
    "plt.title(\"males survived each class\")\n",
    "plt.xticks(males_survived.index.values)\n",
    "plt.xlabel(\"Pclass\")\n",
    "plt.ylabel(\"males survived\")\n",
    "plt.show()\n",
    "\n",
    "temp = df_train_new[[\"Sex\",\"Pclass\",\"Survived\"]]\n",
    "females_survived= total_survivors[total_survivors.Sex == 'female'].groupby(\"Pclass\").sum('Survived')\n",
    "plt.bar(females_survived.index.values,females_survived[\"Survived\"])\n",
    "plt.title(\"females survived each class\")\n",
    "plt.xticks(females_survived.index.values)\n",
    "plt.xlabel(\"Pclass\")\n",
    "plt.ylabel(\"females survived\")\n",
    "plt.show()\n",
    "\n",
    "print(males_survived)\n",
    "print(females_survived)\n",
    "\n",
    "print(\"min males survived\",males_survived.min())\n",
    "\n",
    "y_train.hist()\n",
    "plt.title(\"suvived frequency bar chart\")\n",
    "plt.show()\n",
    "\n",
    "cumulative_survivors=total_survivors.groupby(\"Pclass\").sum('Survived')\n",
    "plt.bar(cumulative_survivors.index.values,cumulative_survivors[\"Survived\"],width=0.5)\n",
    "plt.title(\"survived frequency each class\")"
   ]
  },
  {
   "cell_type": "code",
   "execution_count": null,
   "metadata": {},
   "outputs": [],
   "source": [
    "print(X_train.shape)\n",
    "X_train = pd.get_dummies(X_train,columns=[\"Sex\",\"Embarked\"])\n",
    "print(X_train.shape)"
   ]
  },
  {
   "cell_type": "code",
   "execution_count": null,
   "metadata": {},
   "outputs": [],
   "source": [
    "# from sklearn.preprocessing import MinMaxScaler\n",
    "# scaler = MinMaxScaler()\n",
    "# X_train=scaler.fit_transform(X_train)\n",
    "# X_test=scaler.transform(X_test)"
   ]
  }
 ],
 "metadata": {
  "kernelspec": {
   "display_name": "Python 3",
   "language": "python",
   "name": "python3"
  },
  "language_info": {
   "codemirror_mode": {
    "name": "ipython",
    "version": 3
   },
   "file_extension": ".py",
   "mimetype": "text/x-python",
   "name": "python",
   "nbconvert_exporter": "python",
   "pygments_lexer": "ipython3",
   "version": "3.11.0"
  },
  "orig_nbformat": 4,
  "vscode": {
   "interpreter": {
    "hash": "5238573367df39f7286bb46f9ff5f08f63a01a80960060ce41e3c79b190280fa"
   }
  }
 },
 "nbformat": 4,
 "nbformat_minor": 2
}
