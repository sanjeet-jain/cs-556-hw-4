{
 "cells": [
  {
   "cell_type": "code",
   "execution_count": null,
   "metadata": {},
   "outputs": [],
   "source": [
    "import pandas\n",
    "import numpy as np\n",
    "df = pandas.read_csv(\"housing.csv\")\n"
   ]
  },
  {
   "cell_type": "code",
   "execution_count": null,
   "metadata": {},
   "outputs": [],
   "source": [
    "cleaned_df=df.dropna()"
   ]
  },
  {
   "cell_type": "code",
   "execution_count": null,
   "metadata": {},
   "outputs": [],
   "source": [
    "corr_df=  cleaned_df.drop(columns=[\"latitude\", \"longitude\", \"ocean_proximity\"] )\n",
    "temp = corr_df.corrwith(cleaned_df[\"median_house_value\"])\n",
    "print(temp)"
   ]
  },
  {
   "cell_type": "code",
   "execution_count": null,
   "metadata": {},
   "outputs": [],
   "source": [
    "cleaned_df=pandas.get_dummies(cleaned_df,columns=[\"ocean_proximity\"])\n",
    "X = cleaned_df.drop(columns=[\"median_house_value\"])\n",
    "Y = cleaned_df[[\"median_house_value\"]]\n"
   ]
  },
  {
   "cell_type": "code",
   "execution_count": null,
   "metadata": {},
   "outputs": [],
   "source": [
    "import matplotlib\n",
    "cleaned_df.hist(bins=50,column=\"housing_median_age\")\n",
    "cleaned_df.hist(bins=50,column=\"total_rooms\")\n",
    "cleaned_df.hist(bins=50,column=\"total_bedrooms\")\n",
    "cleaned_df.hist(bins=50,column=\"population\")\n",
    "cleaned_df.hist(bins=50,column=\"households\")\n",
    "cleaned_df.hist(bins=50,column=\"median_income\")\n",
    "cleaned_df.hist(bins=50,column=\"median_house_value\")"
   ]
  },
  {
   "cell_type": "code",
   "execution_count": null,
   "metadata": {},
   "outputs": [],
   "source": [
    "cleaned_df.describe()"
   ]
  },
  {
   "cell_type": "code",
   "execution_count": null,
   "metadata": {},
   "outputs": [],
   "source": [
    "from sklearn.model_selection import train_test_split\n",
    "X_train, X_test, y_train, y_test =train_test_split(X,Y,test_size=0.3,train_size=0.7,random_state=0)\n",
    "print(X_train.shape,X_test.shape,y_train.shape,y_test.shape)"
   ]
  },
  {
   "cell_type": "code",
   "execution_count": null,
   "metadata": {},
   "outputs": [],
   "source": [
    "from sklearn.preprocessing import StandardScaler\n",
    "\n",
    "feature_scaler = StandardScaler()\n",
    "target_value_scaler = StandardScaler()\n",
    "X_train = feature_scaler.fit_transform(X_train)\n",
    "y_train = target_value_scaler.fit_transform(y_train)\n",
    "X_test = feature_scaler.transform(X_test)\n",
    "y_test = target_value_scaler.transform(y_test)"
   ]
  },
  {
   "cell_type": "code",
   "execution_count": null,
   "metadata": {},
   "outputs": [],
   "source": [
    "\n",
    "df_norm = pandas.DataFrame(np.concatenate((X_train, y_train), axis=1), columns = list(cleaned_df.columns))\n",
    "df_norm.hist(bins=50,column=\"housing_median_age\")\n",
    "df_norm.hist(bins=50,column=\"total_rooms\")\n",
    "df_norm.hist(bins=50,column=\"total_bedrooms\")\n",
    "df_norm.hist(bins=50,column=\"population\")\n",
    "df_norm.hist(bins=50,column=\"households\")\n",
    "df_norm.hist(bins=50,column=\"median_income\")\n",
    "df_norm.hist(bins=50,column=\"median_house_value\")"
   ]
  },
  {
   "cell_type": "code",
   "execution_count": null,
   "metadata": {},
   "outputs": [],
   "source": [
    "from sklearn.linear_model import LinearRegression\n",
    "reg = LinearRegression().fit(X_train, y_train)\n",
    "y_preds= reg.predict(X_test)\n",
    "y_preds = target_value_scaler.inverse_transform(y_preds)\n",
    "y_test = target_value_scaler.inverse_transform(y_test)\n"
   ]
  },
  {
   "cell_type": "code",
   "execution_count": null,
   "metadata": {},
   "outputs": [],
   "source": [
    "from sklearn.decomposition import PCA\n",
    "pca = PCA(n_components=2)\n",
    "Xt=pca.fit_transform(X_train)\n",
    "import matplotlib.pyplot as plt\n",
    "plot = plt.scatter(Xt[:,0], Xt[:,1],c=y_train)\n",
    "plt.show()"
   ]
  },
  {
   "cell_type": "code",
   "execution_count": null,
   "metadata": {},
   "outputs": [],
   "source": [
    "\n",
    "print(pca.explained_variance_ratio_)\n",
    "print(pca.singular_values_)"
   ]
  },
  {
   "cell_type": "code",
   "execution_count": null,
   "metadata": {},
   "outputs": [],
   "source": [
    "print(y_preds.shape,y_test.shape,Y.shape)\n",
    "plot = plt.scatter(y_test, y_preds,c=y_test)\n",
    "plt.show()"
   ]
  },
  {
   "cell_type": "code",
   "execution_count": null,
   "metadata": {},
   "outputs": [],
   "source": [
    "from sklearn.metrics import mean_absolute_percentage_error\n",
    "print(mean_absolute_percentage_error(y_test, y_preds))\n",
    "\n",
    "from sklearn.metrics import mean_squared_error\n",
    "print(mean_squared_error(y_test, y_preds,squared=False))\n",
    "\n",
    "from sklearn.metrics import r2_score\n",
    "print(r2_score(y_test, y_preds))\n"
   ]
  }
 ],
 "metadata": {
  "kernelspec": {
   "display_name": "Python 3",
   "language": "python",
   "name": "python3"
  },
  "language_info": {
   "codemirror_mode": {
    "name": "ipython",
    "version": 3
   },
   "file_extension": ".py",
   "mimetype": "text/x-python",
   "name": "python",
   "nbconvert_exporter": "python",
   "pygments_lexer": "ipython3",
   "version": "3.11.0"
  },
  "orig_nbformat": 4,
  "vscode": {
   "interpreter": {
    "hash": "5238573367df39f7286bb46f9ff5f08f63a01a80960060ce41e3c79b190280fa"
   }
  }
 },
 "nbformat": 4,
 "nbformat_minor": 2
}
